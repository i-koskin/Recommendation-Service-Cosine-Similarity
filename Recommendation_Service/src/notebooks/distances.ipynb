{
 "cells": [
  {
   "cell_type": "code",
   "execution_count": 9,
   "metadata": {
    "tags": []
   },
   "outputs": [],
   "source": [
    "import pandas as pd\n",
    "import os\n",
    "import warnings\n",
    "warnings.filterwarnings('ignore')"
   ]
  },
  {
   "cell_type": "markdown",
   "metadata": {},
   "source": [
    "*  Скачайте и поместите в папку ./Recommendation_Service следующие файлы:\n",
    "\n",
    "[tmdb_5000_movies](https://files.sberdisk.ru/s/te4QbzdxKgsFQXA) — общая информация о фильмах\n",
    "\n",
    "[tmdb_5000_credits](https://files.sberdisk.ru/s/H9oRuXQt5mFz3T9) — информация о касте фильмов"
   ]
  },
  {
   "cell_type": "code",
   "execution_count": 10,
   "metadata": {},
   "outputs": [],
   "source": [
    "df_movies = pd.read_csv('../../tmdb_5000_movies.csv')\n",
    "df_credits = pd.read_csv('../../tmdb_5000_credits.csv')\n",
    "df_credits.drop('title', axis= 1, inplace= True)\n",
    "df_movies_1 = pd.merge(df_movies, df_credits, left_on= 'id', right_on= 'movie_id')\n",
    "df_movies_1 = df_movies_1[df_movies.status == 'Released'].copy()\n",
    "df_movies_1.dropna(subset= ['overview', 'genres', 'keywords'], inplace= True)\n",
    "df_movies_1[['overview', 'genres', 'keywords']].fillna(' ', inplace= True)"
   ]
  },
  {
   "cell_type": "code",
   "execution_count": 11,
   "metadata": {},
   "outputs": [],
   "source": [
    "from sklearn.feature_extraction.text import TfidfVectorizer\n",
    "\n",
    "df_movies_1['overview'] = df_movies_1['overview'].fillna('')\n",
    "df_movies_2 = df_movies_1['overview'] + ' ' + df_movies_1['keywords']\n",
    "\n",
    "vector = TfidfVectorizer(stop_words= 'english', max_features= 10000)\n",
    "\n",
    "matrix = vector.fit_transform(df_movies_2)\n"
   ]
  },
  {
   "cell_type": "code",
   "execution_count": 12,
   "metadata": {},
   "outputs": [],
   "source": [
    "from sklearn.metrics.pairwise import cosine_similarity\n",
    "\n",
    "cosine_sim = cosine_similarity(matrix)\n",
    "\n",
    "df_distance = pd.DataFrame(cosine_sim, index= df_movies_1['id'], columns= df_movies_1['id'])"
   ]
  },
  {
   "cell_type": "code",
   "execution_count": 13,
   "metadata": {},
   "outputs": [],
   "source": [
    "folder_name = 'assets'\n",
    "\n",
    "current_directory = os.getcwd()\n",
    "\n",
    "parent_directory = os.path.dirname(current_directory)\n",
    "new_folder_path = os.path.join(parent_directory, folder_name)\n",
    "\n",
    "os.makedirs(new_folder_path, exist_ok=True)\n"
   ]
  },
  {
   "cell_type": "code",
   "execution_count": 14,
   "metadata": {},
   "outputs": [],
   "source": [
    "df_distance.to_csv('../assets/distance.csv')\n",
    "df_movies_1.to_csv('../assets/movies.csv')"
   ]
  }
 ],
 "metadata": {
  "kernelspec": {
   "display_name": "Python 3",
   "language": "python",
   "name": "python3"
  },
  "language_info": {
   "codemirror_mode": {
    "name": "ipython",
    "version": 3
   },
   "file_extension": ".py",
   "mimetype": "text/x-python",
   "name": "python",
   "nbconvert_exporter": "python",
   "pygments_lexer": "ipython3",
   "version": "3.11.9"
  }
 },
 "nbformat": 4,
 "nbformat_minor": 4
}
